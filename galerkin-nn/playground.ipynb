{
 "cells": [
  {
   "cell_type": "code",
   "execution_count": 1,
   "metadata": {},
   "outputs": [],
   "source": [
    "import jax\n",
    "import jax.numpy as jnp\n",
    "import numpy as np\n",
    "\n",
    "from flax import nnx"
   ]
  },
  {
   "cell_type": "code",
   "execution_count": 3,
   "metadata": {},
   "outputs": [],
   "source": [
    "class Count(nnx.Variable[nnx.A]):\n",
    "  pass\n",
    "\n",
    "\n",
    "class SingleLayer(nnx.Module):\n",
    "\t\"\"\"\n",
    "\tSingle layer neural network with an activation function\n",
    "\t\"\"\"\n",
    "\tdef __init__(self, dim_in: int, dim_out: int, activation, *, rngs: nnx.Rngs):\n",
    "\t\tkey = rngs.params()\n",
    "\t\tself.count = Count(jnp.array(0))\n",
    "\t\tinitializer = nnx.initializers.uniform(scale=1.0)\n",
    "\t\tself.w = nnx.Param(initializer(key, (dim_in, dim_out)))\n",
    "\t\tself.b = nnx.Param(jnp.zeros((dim_out,)))\n",
    "\t\tself.activation = activation\n",
    "\t\tself.dim_in, self.dim_out = dim_in, dim_out\n",
    "\n",
    "\tdef __call__(self, x):\n",
    "\t\tself.count.value += 1\n",
    "\t\tx = x @ self.w + self.b\n",
    "\t\tx = self.activation(x)\n",
    "\t\treturn x"
   ]
  },
  {
   "cell_type": "code",
   "execution_count": null,
   "metadata": {},
   "outputs": [],
   "source": [
    "  model = SingleLayer(\n",
    "    dim_in=1,\n",
    "    dim_out=10,\n",
    "    activation=jnp.tanh,\n",
    "    rngs=\n",
    "  )"
   ]
  },
  {
   "cell_type": "code",
   "execution_count": 6,
   "metadata": {},
   "outputs": [],
   "source": [
    "a, b = 0.0, 1.0\n",
    "x, w = np.polynomial.legendre.leggauss(deg=1)\n",
    "x = 0.5 * (b - a) * x + 0.5 * (b + a)  # Translation from [-1, 1] to [a, b]\n",
    "w = 0.5 * (b - a) * w  # Scale quadrature weights"
   ]
  },
  {
   "cell_type": "code",
   "execution_count": 7,
   "metadata": {},
   "outputs": [
    {
     "data": {
      "text/plain": [
       "array([0.5])"
      ]
     },
     "execution_count": 7,
     "metadata": {},
     "output_type": "execute_result"
    }
   ],
   "source": [
    "x"
   ]
  },
  {
   "cell_type": "code",
   "execution_count": 8,
   "metadata": {},
   "outputs": [
    {
     "data": {
      "text/plain": [
       "array([1.])"
      ]
     },
     "execution_count": 8,
     "metadata": {},
     "output_type": "execute_result"
    }
   ],
   "source": [
    "w"
   ]
  }
 ],
 "metadata": {
  "kernelspec": {
   "display_name": "sciml-jax",
   "language": "python",
   "name": "python3"
  },
  "language_info": {
   "codemirror_mode": {
    "name": "ipython",
    "version": 3
   },
   "file_extension": ".py",
   "mimetype": "text/x-python",
   "name": "python",
   "nbconvert_exporter": "python",
   "pygments_lexer": "ipython3",
   "version": "3.12.3"
  }
 },
 "nbformat": 4,
 "nbformat_minor": 2
}
